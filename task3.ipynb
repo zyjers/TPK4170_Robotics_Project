{
 "cells": [
  {
   "cell_type": "markdown",
   "id": "f3752952",
   "metadata": {},
   "source": [
    "# Task 3"
   ]
  },
  {
   "cell_type": "code",
   "execution_count": 1,
   "id": "62fb481c",
   "metadata": {},
   "outputs": [],
   "source": [
    "import numpy as np\n",
    "import modern_robotics as mr"
   ]
  },
  {
   "cell_type": "code",
   "execution_count": null,
   "id": "13a8168f",
   "metadata": {},
   "outputs": [],
   "source": [
    "\n",
    "\n",
    "th1 = "
   ]
  }
 ],
 "metadata": {
  "kernelspec": {
   "display_name": "Python 3 (ipykernel)",
   "language": "python",
   "name": "python3"
  },
  "language_info": {
   "codemirror_mode": {
    "name": "ipython",
    "version": 3
   },
   "file_extension": ".py",
   "mimetype": "text/x-python",
   "name": "python",
   "nbconvert_exporter": "python",
   "pygments_lexer": "ipython3",
   "version": "3.8.10"
  }
 },
 "nbformat": 4,
 "nbformat_minor": 5
}
