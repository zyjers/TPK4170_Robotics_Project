{
 "cells": [
  {
   "cell_type": "code",
   "execution_count": 28,
   "metadata": {},
   "outputs": [],
   "source": [
    "from sympy import symbols, cos, sin, acos, asin, pi, sqrt, atan, atan2\n",
    "import numpy as np"
   ]
  },
  {
   "cell_type": "code",
   "execution_count": 41,
   "metadata": {},
   "outputs": [],
   "source": [
    "\n",
    "# theta_X = [PI/5, -PI/4, PI/3, 0, 0, 0]\n",
    "\n",
    "p = [-0.800, 0, -0.435]\n",
    "\n",
    "d1_v = .025\n",
    "d2_v = .035\n",
    "\n",
    "a1_v = .400\n",
    "a2_v = .455\n",
    "a3_v = .420\n",
    "\n",
    "r_v = np.sqrt(a3_v**2 + d2_v**2)\n",
    "alpha_v = np.arctan(d2_v/a3_v)"
   ]
  },
  {
   "cell_type": "code",
   "execution_count": 42,
   "metadata": {},
   "outputs": [],
   "source": [
    "#th1, th2, th3 = symbols('theta_1, theta_2, theta_3')\n",
    "px, py, pz = symbols('p_x, p_y, p_z')\n",
    "a1, a2, a3 = symbols('a_1, a_2, a_3')\n",
    "d1, d2 = symbols('d_1, d_2')\n",
    "\n",
    "# r = sqrt(a3**2 + d2**2)\n",
    "# alpha = arctan(d2/a3)\n",
    "r, alpha = symbols('r, alpha')"
   ]
  },
  {
   "cell_type": "code",
   "execution_count": 43,
   "metadata": {},
   "outputs": [],
   "source": [
    "th1 = atan2(py, px)"
   ]
  },
  {
   "cell_type": "code",
   "execution_count": 44,
   "metadata": {},
   "outputs": [
    {
     "data": {
      "text/latex": [
       "$\\displaystyle \\operatorname{atan_{2}}{\\left(p_{y},p_{x} \\right)}$"
      ],
      "text/plain": [
       "atan2(p_y, p_x)"
      ]
     },
     "execution_count": 44,
     "metadata": {},
     "output_type": "execute_result"
    }
   ],
   "source": [
    "th1"
   ]
  },
  {
   "cell_type": "code",
   "execution_count": 45,
   "metadata": {},
   "outputs": [
    {
     "data": {
      "text/latex": [
       "$\\displaystyle 0$"
      ],
      "text/plain": [
       "0"
      ]
     },
     "execution_count": 45,
     "metadata": {},
     "output_type": "execute_result"
    }
   ],
   "source": [
    "th1_v = th1.subs([(px, p[0]), (py, p[1]), (pi, 0)])\n",
    "th1_v"
   ]
  },
  {
   "cell_type": "code",
   "execution_count": 46,
   "metadata": {},
   "outputs": [],
   "source": [
    "beta_A = acos((a2**2 + r**2 - pz**2 - px**2 - py**2)/(2*a2*r))\n",
    "\n",
    "th3 = pi - beta_A - alpha\n",
    "#th3 = cos(beta_A)"
   ]
  },
  {
   "cell_type": "code",
   "execution_count": 47,
   "metadata": {},
   "outputs": [
    {
     "data": {
      "text/latex": [
       "$\\displaystyle - \\alpha - \\operatorname{acos}{\\left(- \\frac{- a_{2}^{2} + p_{x}^{2} + p_{y}^{2} + p_{z}^{2} - r^{2}}{2 a_{2} r} \\right)} + \\pi$"
      ],
      "text/plain": [
       "-alpha - acos(-(-a_2**2 + p_x**2 + p_y**2 + p_z**2 - r**2)/(2*a_2*r)) + pi"
      ]
     },
     "execution_count": 47,
     "metadata": {},
     "output_type": "execute_result"
    }
   ],
   "source": [
    "th3 = th3.simplify()\n",
    "th3"
   ]
  },
  {
   "cell_type": "code",
   "execution_count": 48,
   "metadata": {},
   "outputs": [
    {
     "data": {
      "text/latex": [
       "$\\displaystyle -0.0831412318884412 + 1.60512080006622 i$"
      ],
      "text/plain": [
       "-0.0831412318884412 + 1.60512080006622*I"
      ]
     },
     "execution_count": 48,
     "metadata": {},
     "output_type": "execute_result"
    }
   ],
   "source": [
    "th3_v = th3.subs([\n",
    "    (px, p[0] - d1*cos(th1_v)),\n",
    "    (py, p[1] - d1*sin(th1_v)),\n",
    "    (pz, p[2] - a1_v),\n",
    "    (d1, d1_v),\n",
    "    (a2, a2_v),\n",
    "    (r, r_v),\n",
    "    (alpha, alpha_v),\n",
    "    (pi, np.pi)\n",
    "])\n",
    "\n",
    "th3_v"
   ]
  },
  {
   "cell_type": "markdown",
   "metadata": {},
   "source": [
    "------------"
   ]
  },
  {
   "cell_type": "code",
   "execution_count": 49,
   "metadata": {},
   "outputs": [],
   "source": [
    "beta_B = acos((px**2 + py**2 + a2**2 - r**2)/(2*a2*sqrt(px**2+py**2)))\n",
    "\n",
    "th2 = atan2(pz, sqrt(px**2+py**2)) - beta_B"
   ]
  },
  {
   "cell_type": "code",
   "execution_count": 50,
   "metadata": {},
   "outputs": [
    {
     "data": {
      "text/latex": [
       "$\\displaystyle - \\operatorname{acos}{\\left(\\frac{a_{2}^{2} + p_{x}^{2} + p_{y}^{2} - r^{2}}{2 a_{2} \\sqrt{p_{x}^{2} + p_{y}^{2}}} \\right)} + \\operatorname{atan_{2}}{\\left(p_{z},\\sqrt{p_{x}^{2} + p_{y}^{2}} \\right)}$"
      ],
      "text/plain": [
       "-acos((a_2**2 + p_x**2 + p_y**2 - r**2)/(2*a_2*sqrt(p_x**2 + p_y**2))) + atan2(p_z, sqrt(p_x**2 + p_y**2))"
      ]
     },
     "execution_count": 50,
     "metadata": {},
     "output_type": "execute_result"
    }
   ],
   "source": [
    "th2 = th2.simplify()\n",
    "th2"
   ]
  },
  {
   "cell_type": "code",
   "execution_count": 51,
   "metadata": {},
   "outputs": [
    {
     "data": {
      "text/latex": [
       "$\\displaystyle -1.12231010874627$"
      ],
      "text/plain": [
       "-1.12231010874627"
      ]
     },
     "execution_count": 51,
     "metadata": {},
     "output_type": "execute_result"
    }
   ],
   "source": [
    "th2_v = th2.subs([\n",
    "    (px, p[0] - d1*cos(th1_v)),\n",
    "    (py, p[1] - d1*sin(th1_v)),\n",
    "    (pz, p[2] - a1_v),\n",
    "    (d1, d1_v),\n",
    "    (a2, a2_v),\n",
    "    (r, r_v),\n",
    "    (alpha, alpha_v),\n",
    "    (pi, np.pi)\n",
    "])\n",
    "\n",
    "th2_v"
   ]
  },
  {
   "cell_type": "code",
   "execution_count": null,
   "metadata": {},
   "outputs": [],
   "source": []
  }
 ],
 "metadata": {
  "kernelspec": {
   "display_name": "Python 3 (ipykernel)",
   "language": "python",
   "name": "python3"
  },
  "language_info": {
   "codemirror_mode": {
    "name": "ipython",
    "version": 3
   },
   "file_extension": ".py",
   "mimetype": "text/x-python",
   "name": "python",
   "nbconvert_exporter": "python",
   "pygments_lexer": "ipython3",
   "version": "3.8.10"
  }
 },
 "nbformat": 4,
 "nbformat_minor": 2
}
