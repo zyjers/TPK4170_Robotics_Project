{
 "cells": [
  {
   "cell_type": "code",
   "execution_count": 45,
   "metadata": {},
   "outputs": [],
   "source": [
    "from sympy import symbols, cos, sin, acos, asin, pi, sqrt, atan2\n",
    "import numpy as np"
   ]
  },
  {
   "cell_type": "code",
   "execution_count": 40,
   "metadata": {},
   "outputs": [],
   "source": [
    "#th1, th2, th3 = symbols('theta_1, theta_2, theta_3')\n",
    "px, py, pz = symbols('p_x, p_y, p_z')\n",
    "a1, a2, a3 = symbols('a_1, a_2, a_3')\n",
    "d1, d2 = symbols('d_1, d_2')\n",
    "\n",
    "# r = sqrt(a3**2 + d2**2)\n",
    "# alpha = arctan(d2/a3)\n",
    "r, alpha = symbols('r, alpha')\n"
   ]
  },
  {
   "cell_type": "code",
   "execution_count": 41,
   "metadata": {},
   "outputs": [],
   "source": [
    "qx = px - d1*cos(th1)\n",
    "qy = py - d1*sin(th1)"
   ]
  },
  {
   "cell_type": "code",
   "execution_count": 35,
   "metadata": {},
   "outputs": [],
   "source": [
    "beta_A = acos((a2**2 + r**2 - pz**2 - qx**2 - qy**2)/(2*a2*r))\n",
    "\n",
    "th3 = pi - beta_A - alpha"
   ]
  },
  {
   "cell_type": "code",
   "execution_count": 37,
   "metadata": {},
   "outputs": [
    {
     "data": {
      "text/latex": [
       "$\\displaystyle - \\alpha - \\operatorname{acos}{\\left(- \\frac{- a_{2}^{2} + p_{z}^{2} - r^{2} + \\left(d_{1} \\sin{\\left(\\theta_{1} \\right)} - p_{y}\\right)^{2} + \\left(d_{1} \\cos{\\left(\\theta_{1} \\right)} - p_{x}\\right)^{2}}{2 a_{2} r} \\right)} + \\pi$"
      ],
      "text/plain": [
       "-alpha - acos(-(-a_2**2 + p_z**2 - r**2 + (d_1*sin(theta_1) - p_y)**2 + (d_1*cos(theta_1) - p_x)**2)/(2*a_2*r)) + pi"
      ]
     },
     "execution_count": 37,
     "metadata": {},
     "output_type": "execute_result"
    }
   ],
   "source": [
    "th3.simplify()"
   ]
  },
  {
   "cell_type": "code",
   "execution_count": 48,
   "metadata": {},
   "outputs": [],
   "source": [
    "beta_B = acos((qx**2 + qy**2 + a2**2 - r**2)/(2*a2*sqrt(qx**2+qy**2)))\n",
    "\n",
    "th2 = atan2(qy, qx) - beta_B"
   ]
  },
  {
   "cell_type": "code",
   "execution_count": 49,
   "metadata": {},
   "outputs": [
    {
     "data": {
      "text/latex": [
       "$\\displaystyle - \\operatorname{acos}{\\left(\\frac{a_{2}^{2} - r^{2} + \\left(d_{1} \\sin{\\left(\\theta_{1} \\right)} - p_{y}\\right)^{2} + \\left(d_{1} \\cos{\\left(\\theta_{1} \\right)} - p_{x}\\right)^{2}}{2 a_{2} \\sqrt{\\left(d_{1} \\sin{\\left(\\theta_{1} \\right)} - p_{y}\\right)^{2} + \\left(d_{1} \\cos{\\left(\\theta_{1} \\right)} - p_{x}\\right)^{2}}} \\right)} + \\operatorname{atan_{2}}{\\left(- d_{1} \\sin{\\left(\\theta_{1} \\right)} + p_{y},- d_{1} \\cos{\\left(\\theta_{1} \\right)} + p_{x} \\right)}$"
      ],
      "text/plain": [
       "-acos((a_2**2 - r**2 + (d_1*sin(theta_1) - p_y)**2 + (d_1*cos(theta_1) - p_x)**2)/(2*a_2*sqrt((d_1*sin(theta_1) - p_y)**2 + (d_1*cos(theta_1) - p_x)**2))) + atan2(-d_1*sin(theta_1) + p_y, -d_1*cos(theta_1) + p_x)"
      ]
     },
     "execution_count": 49,
     "metadata": {},
     "output_type": "execute_result"
    }
   ],
   "source": [
    "th2.simplify()"
   ]
  },
  {
   "cell_type": "code",
   "execution_count": 50,
   "metadata": {},
   "outputs": [],
   "source": [
    "th1 = atan2(py, px)"
   ]
  },
  {
   "cell_type": "code",
   "execution_count": 51,
   "metadata": {},
   "outputs": [
    {
     "data": {
      "text/latex": [
       "$\\displaystyle \\operatorname{atan_{2}}{\\left(p_{y},p_{x} \\right)}$"
      ],
      "text/plain": [
       "atan2(p_y, p_x)"
      ]
     },
     "execution_count": 51,
     "metadata": {},
     "output_type": "execute_result"
    }
   ],
   "source": [
    "th1"
   ]
  },
  {
   "cell_type": "markdown",
   "metadata": {},
   "source": [
    "-------------"
   ]
  },
  {
   "cell_type": "code",
   "execution_count": null,
   "metadata": {},
   "outputs": [],
   "source": []
  }
 ],
 "metadata": {
  "kernelspec": {
   "display_name": "Python 3",
   "language": "python",
   "name": "python3"
  },
  "language_info": {
   "codemirror_mode": {
    "name": "ipython",
    "version": 3
   },
   "file_extension": ".py",
   "mimetype": "text/x-python",
   "name": "python",
   "nbconvert_exporter": "python",
   "pygments_lexer": "ipython3",
   "version": "3.7.4"
  }
 },
 "nbformat": 4,
 "nbformat_minor": 2
}
