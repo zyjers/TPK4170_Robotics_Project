{
 "cells": [
  {
   "cell_type": "code",
   "execution_count": 2,
   "id": "5a2a6a1e",
   "metadata": {},
   "outputs": [],
   "source": [
    "import modern_robotics as mr\n",
    "import numpy as np\n",
    "\n",
    "np.set_printoptions(suppress=True)\n",
    "from dataclasses import dataclass\n",
    "from tpk4170.visualization import Ur5Visualizer"
   ]
  },
  {
   "cell_type": "code",
   "execution_count": 4,
   "id": "ed034326",
   "metadata": {},
   "outputs": [
    {
     "data": {
      "application/vnd.jupyter.widget-view+json": {
       "model_id": "ac43abe03c5e40009bd2ed0fb0d0ed88",
       "version_major": 2,
       "version_minor": 0
      },
      "text/plain": [
       "Renderer(camera=PerspectiveCamera(aspect=1.5, children=(DirectionalLight(color='white', intensity=0.66, positi…"
      ]
     },
     "metadata": {},
     "output_type": "display_data"
    }
   ],
   "source": [
    "v = Ur5Visualizer()"
   ]
  },
  {
   "cell_type": "code",
   "execution_count": 4,
   "id": "b2ddccdb",
   "metadata": {},
   "outputs": [],
   "source": [
    "class Ur5:\n",
    "    W1 = 0.10915\n",
    "    W2 = 0.0823\n",
    "    L1 = 0.425\n",
    "    L2 = 0.39225\n",
    "    H1 = 0.089159\n",
    "    H2 = 0.09465\n",
    "\n",
    "    def __init__(self):\n",
    "        self._M = np.array(\n",
    "            [\n",
    "                [-1.0, 0.0, 0.0, self.L1 + self.L2],\n",
    "                [0.0, 0.0, 1.0, self.W1 + self.W2],\n",
    "                [0.0, 1.0, 0.0, self.H1 - self.H2],\n",
    "                [0.0, 0.0, 0.0, 1.0],\n",
    "            ]\n",
    "        )\n",
    "\n",
    "        self._SList = np.array(\n",
    "            [\n",
    "                [0.0, 0.0, 1.0, 0.0, 0.0, 0.0],\n",
    "                [0.0, 1.0, 0.0, -self.H1, 0.0, 0.0],\n",
    "                [0.0, 1.0, 0.0, -self.H1, 0.0, self.L1],\n",
    "                [0.0, 1.0, 0.0, -self.H1, 0.0, self.L1 + self.L2],\n",
    "                [0.0, 0.0, -1.0, -self.W1, self.L1 + self.L2, 0.0],\n",
    "                [0.0, 1.0, 0.0, self.H2 - self.H1, 0.0, self.L1 + self.L2],\n",
    "            ]\n",
    "        ).T\n",
    "\n",
    "    def fkin(self, theta):\n",
    "        return mr.FKinSpace(self._M, self._SList, theta)\n",
    "\n",
    "\n",
    "PI_HALF = np.pi / 2\n",
    "PI = np.pi"
   ]
  },
  {
   "cell_type": "code",
   "execution_count": 5,
   "id": "3bb38ee2",
   "metadata": {},
   "outputs": [],
   "source": [
    "ur5 = Ur5()"
   ]
  },
  {
   "cell_type": "code",
   "execution_count": 6,
   "id": "8dea7f17",
   "metadata": {},
   "outputs": [
    {
     "data": {
      "text/plain": [
       "array([[-1.      ,  0.      ,  0.      ,  0.81725 ],\n",
       "       [ 0.      ,  0.      ,  1.      ,  0.19145 ],\n",
       "       [ 0.      ,  1.      ,  0.      , -0.005491],\n",
       "       [ 0.      ,  0.      ,  0.      ,  1.      ]])"
      ]
     },
     "execution_count": 6,
     "metadata": {},
     "output_type": "execute_result"
    }
   ],
   "source": [
    "theta = [0.0,0.0,0.0,0.0,0.0,0.0]\n",
    "ur5.fkin(theta)"
   ]
  },
  {
   "cell_type": "code",
   "execution_count": 7,
   "id": "11ba8834",
   "metadata": {},
   "outputs": [],
   "source": [
    "D1 = Ur5.H1\n",
    "A2 = Ur5.L1\n",
    "A3 = Ur5.L2\n",
    "D4 = Ur5.W1\n",
    "D5 = Ur5.H2\n",
    "D6 = Ur5.W2"
   ]
  },
  {
   "cell_type": "code",
   "execution_count": 8,
   "id": "d97b7dbb",
   "metadata": {},
   "outputs": [],
   "source": [
    "@dataclass\n",
    "class DHLink:\n",
    "    a: float\n",
    "    alpha: float\n",
    "    d: float\n",
    "    theta: float\n",
    "\n",
    "    def matrix(self) -> np.array:\n",
    "        ct = np.cos(self.theta)\n",
    "        st = np.sin(self.theta)\n",
    "        ca = np.cos(self.alpha)\n",
    "        sa = np.sin(self.alpha)\n",
    "        return np.array(\n",
    "            [\n",
    "                [ct, -st * ca, st * sa, self.a * ct],\n",
    "                [st, ct * ca, -ct * sa, self.a * st],\n",
    "                [0.0, sa, ca, self.d],\n",
    "                [0.0, 0.0, 0.0, 1.0],\n",
    "            ]\n",
    "        )"
   ]
  },
  {
   "cell_type": "code",
   "execution_count": 9,
   "id": "4ea67bbc",
   "metadata": {},
   "outputs": [],
   "source": [
    "l1 = DHLink(0.0, PI_HALF, D1, PI)\n",
    "l2 = DHLink(-A2, 0.0, 0.0, 0.0)\n",
    "l3 = DHLink(-A3, 0.0, 0.0, 0.0)\n",
    "l4 = DHLink(0.0, PI_HALF, D4, 0.0)\n",
    "l5 = DHLink(0.0, -PI_HALF, D5, 0.0)\n",
    "l6 = DHLink(0.0, 0.0, D6, 0)"
   ]
  },
  {
   "cell_type": "code",
   "execution_count": 10,
   "id": "0698c425",
   "metadata": {},
   "outputs": [
    {
     "name": "stdout",
     "output_type": "stream",
     "text": [
      "[[-1.       -0.        0.        0.81725 ]\n",
      " [ 0.       -0.        1.        0.19145 ]\n",
      " [ 0.        1.        0.       -0.005491]\n",
      " [ 0.        0.        0.        1.      ]]\n"
     ]
    }
   ],
   "source": [
    "fk_dh_zero = (\n",
    "    l1.matrix()\n",
    "    @ l2.matrix()\n",
    "    @ l3.matrix()\n",
    "    @ l4.matrix()\n",
    "    @ l5.matrix()\n",
    "    @ l6.matrix()\n",
    ")\n",
    "print(fk_dh_zero)"
   ]
  },
  {
   "cell_type": "code",
   "execution_count": 11,
   "id": "1a90877b",
   "metadata": {},
   "outputs": [
    {
     "data": {
      "text/plain": [
       "array([[-1.      ,  0.      ,  0.      ,  0.81725 ],\n",
       "       [ 0.      ,  0.      ,  1.      ,  0.19145 ],\n",
       "       [ 0.      ,  1.      ,  0.      , -0.005491],\n",
       "       [ 0.      ,  0.      ,  0.      ,  1.      ]])"
      ]
     },
     "execution_count": 11,
     "metadata": {},
     "output_type": "execute_result"
    }
   ],
   "source": [
    "theta = [0.0,0.0,0.0,0.0,0.0,0.0]\n",
    "ur5.fkin(theta)"
   ]
  },
  {
   "cell_type": "code",
   "execution_count": 37,
   "id": "d02858ca",
   "metadata": {},
   "outputs": [],
   "source": [
    "from tpk4170.visualization import Viewer\n",
    "from tpk4170.models import Grid, Axes\n",
    "from pythreejs import Object3D\n",
    "from transformations import quaternion_from_matrix\n",
    "\n",
    "from pythreejs import ArrowHelper as Arrow"
   ]
  },
  {
   "cell_type": "code",
   "execution_count": 40,
   "id": "eaa101c0",
   "metadata": {},
   "outputs": [],
   "source": [
    "class DHFrame(Axes):\n",
    "    def __init__(self, trf):\n",
    "        Axes.__init__(self, 0.1)\n",
    "        self.quaternion = np.roll(quaternion_from_matrix(trf), -1).tolist()\n",
    "        self.position = (trf[:3, 3]).tolist()"
   ]
  },
  {
   "cell_type": "code",
   "execution_count": 41,
   "id": "e2944e1a",
   "metadata": {},
   "outputs": [],
   "source": [
    "class ScrewAxis(Arrow):\n",
    "    def __init__(self, direction, origin, length=0.2 , color=0xffff00):\n",
    "        Arrow.__init__(self, direction, origin, hex=color)\n",
    "        "
   ]
  },
  {
   "cell_type": "code",
   "execution_count": 43,
   "id": "45c840d7",
   "metadata": {},
   "outputs": [
    {
     "data": {
      "application/vnd.jupyter.widget-view+json": {
       "model_id": "ddde4e9fc6e54f37b8dcdb61d71c8835",
       "version_major": 2,
       "version_minor": 0
      },
      "text/plain": [
       "Renderer(camera=PerspectiveCamera(aspect=1.5, children=(DirectionalLight(color='white', intensity=0.66, positi…"
      ]
     },
     "metadata": {},
     "output_type": "display_data"
    }
   ],
   "source": [
    "viewer = Viewer(background=\"white\")"
   ]
  },
  {
   "cell_type": "code",
   "execution_count": 45,
   "id": "c1ca8566",
   "metadata": {},
   "outputs": [],
   "source": [
    "viewer.add(Grid())"
   ]
  },
  {
   "cell_type": "code",
   "execution_count": 49,
   "id": "aafec17c",
   "metadata": {},
   "outputs": [],
   "source": [
    "# example add an S axis\n",
    "viewer.add(ScrewAxis([0,1,1], [-.1,0,.2]))"
   ]
  },
  {
   "cell_type": "code",
   "execution_count": 27,
   "id": "267f667d",
   "metadata": {},
   "outputs": [],
   "source": [
    "T01 = l1.matrix()\n",
    "T02 = l1.matrix() @ l2.matrix()\n",
    "T03 = l1.matrix() @ l2.matrix() @ l3.matrix()\n",
    "T04 = l1.matrix() @ l2.matrix() @ l3.matrix() @ l4.matrix()\n",
    "T05 = l1.matrix() @ l2.matrix() @ l3.matrix() @ l4.matrix() @ l5.matrix()\n",
    "T06 = l1.matrix() @ l2.matrix() @ l3.matrix() @ l4.matrix() @ l5.matrix() @ l6.matrix()"
   ]
  },
  {
   "cell_type": "code",
   "execution_count": 28,
   "id": "560c7d88",
   "metadata": {},
   "outputs": [],
   "source": [
    "viewer.add(Axes(0.1))"
   ]
  },
  {
   "cell_type": "code",
   "execution_count": 29,
   "id": "cb691d0a",
   "metadata": {},
   "outputs": [],
   "source": [
    "viewer.add(DHFrame(T01))"
   ]
  },
  {
   "cell_type": "code",
   "execution_count": 30,
   "id": "156aa0d0",
   "metadata": {},
   "outputs": [],
   "source": [
    "viewer.add(DHFrame(T02))"
   ]
  },
  {
   "cell_type": "code",
   "execution_count": 31,
   "id": "f152a3cf",
   "metadata": {},
   "outputs": [],
   "source": [
    "viewer.add(DHFrame(T03))"
   ]
  },
  {
   "cell_type": "code",
   "execution_count": 32,
   "id": "ffbfa388",
   "metadata": {},
   "outputs": [],
   "source": [
    "viewer.add(DHFrame(T04))"
   ]
  },
  {
   "cell_type": "code",
   "execution_count": 33,
   "id": "e9dac4b0",
   "metadata": {},
   "outputs": [],
   "source": [
    "viewer.add(DHFrame(T05))"
   ]
  },
  {
   "cell_type": "code",
   "execution_count": 34,
   "id": "00adb57f",
   "metadata": {},
   "outputs": [],
   "source": [
    "viewer.add(DHFrame(T06))"
   ]
  },
  {
   "cell_type": "code",
   "execution_count": null,
   "id": "a9232f8a",
   "metadata": {},
   "outputs": [],
   "source": []
  },
  {
   "cell_type": "code",
   "execution_count": null,
   "id": "16e304e5",
   "metadata": {},
   "outputs": [],
   "source": []
  }
 ],
 "metadata": {
  "kernelspec": {
   "display_name": "Python 3 (ipykernel)",
   "language": "python",
   "name": "python3"
  },
  "language_info": {
   "codemirror_mode": {
    "name": "ipython",
    "version": 3
   },
   "file_extension": ".py",
   "mimetype": "text/x-python",
   "name": "python",
   "nbconvert_exporter": "python",
   "pygments_lexer": "ipython3",
   "version": "3.8.10"
  }
 },
 "nbformat": 4,
 "nbformat_minor": 5
}
