{
 "cells": [
  {
   "cell_type": "code",
   "execution_count": 1,
   "id": "9709975d",
   "metadata": {},
   "outputs": [],
   "source": [
    "import tpk4170"
   ]
  },
  {
   "cell_type": "code",
   "execution_count": 2,
   "id": "eb19d2f2",
   "metadata": {},
   "outputs": [],
   "source": [
    "from tpk4170.visualization import Ur5Visualizer"
   ]
  },
  {
   "cell_type": "code",
   "execution_count": 3,
   "id": "2514fa02",
   "metadata": {},
   "outputs": [
    {
     "name": "stderr",
     "output_type": "stream",
     "text": [
      "/home/gaston/Desktop/tpk4170-robotics/tpk4170_venv/lib/python3.8/site-packages/jupyter_client/session.py:716: UserWarning: Message serialization failed with:\n",
      "Out of range float values are not JSON compliant\n",
      "Supporting this message is deprecated in jupyter-client 7, please make sure your message is JSON-compliant\n",
      "  content = self.pack(content)\n"
     ]
    },
    {
     "data": {
      "application/vnd.jupyter.widget-view+json": {
       "model_id": "aa3774a595cf4f3ab4510960f6817fcb",
       "version_major": 2,
       "version_minor": 0
      },
      "text/plain": [
       "Renderer(camera=PerspectiveCamera(aspect=1.5, children=(DirectionalLight(color='white', intensity=0.66, positi…"
      ]
     },
     "metadata": {},
     "output_type": "display_data"
    }
   ],
   "source": [
    "v = Ur5Visualizer()"
   ]
  },
  {
   "cell_type": "code",
   "execution_count": 4,
   "id": "6d21d86c",
   "metadata": {},
   "outputs": [
    {
     "data": {
      "application/vnd.jupyter.widget-view+json": {
       "model_id": "65c3478f4dcf46c086a8a570491a1a00",
       "version_major": 2,
       "version_minor": 0
      },
      "text/plain": [
       "interactive(children=(FloatSlider(value=0.0, description='q1', max=3.141592653589793, min=-3.141592653589793),…"
      ]
     },
     "metadata": {},
     "output_type": "display_data"
    }
   ],
   "source": [
    "v.interact()"
   ]
  },
  {
   "cell_type": "code",
   "execution_count": null,
   "id": "27a188e7",
   "metadata": {},
   "outputs": [],
   "source": [
    "jupyter notebook ur5_visualizer.ipynbjupyter notebook ur5_visualizer.ipynbjupyter notebook ur5_visualizer.ipynb"
   ]
  }
 ],
 "metadata": {
  "interpreter": {
   "hash": "343462238b39e817d7ecda39097440576ae601cb1be177cb5dba6664649d084e"
  },
  "kernelspec": {
   "display_name": "Python 3 (ipykernel)",
   "language": "python",
   "name": "python3"
  },
  "language_info": {
   "codemirror_mode": {
    "name": "ipython",
    "version": 3
   },
   "file_extension": ".py",
   "mimetype": "text/x-python",
   "name": "python",
   "nbconvert_exporter": "python",
   "pygments_lexer": "ipython3",
   "version": "3.8.10"
  }
 },
 "nbformat": 4,
 "nbformat_minor": 5
}
