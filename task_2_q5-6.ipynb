{
 "cells": [
  {
   "cell_type": "markdown",
   "metadata": {},
   "source": [
    "# Task 2 : Forward Kinematics"
   ]
  },
  {
   "cell_type": "code",
   "execution_count": 8,
   "metadata": {},
   "outputs": [],
   "source": [
    "import modern_robotics as mr\n",
    "import numpy as np\n",
    "np.set_printoptions(suppress=True)\n",
    "from dataclasses import dataclass\n",
    "\n",
    "from tpk4170.visualization import Kr6R900SixxVisualizer"
   ]
  },
  {
   "cell_type": "markdown",
   "metadata": {},
   "source": [
    "## Visualize Denavit-Hartenberg frames\n",
    "\n",
    "### 1) Definitions"
   ]
  },
  {
   "cell_type": "code",
   "execution_count": 4,
   "metadata": {},
   "outputs": [],
   "source": [
    "@dataclass\n",
    "class DHLink:\n",
    "    a: float\n",
    "    alpha: float\n",
    "    d: float\n",
    "    theta: float\n",
    "\n",
    "    def matrix(self) -> np.array:\n",
    "        ct = np.cos(self.theta)\n",
    "        st = np.sin(self.theta)\n",
    "        ca = np.cos(self.alpha)\n",
    "        sa = np.sin(self.alpha)\n",
    "        return np.array(\n",
    "            [\n",
    "                [ct, -st * ca, st * sa, self.a * ct],\n",
    "                [st, ct * ca, -ct * sa, self.a * st],\n",
    "                [0.0, sa, ca, self.d],\n",
    "                [0.0, 0.0, 0.0, 1.0],\n",
    "            ]\n",
    "        )"
   ]
  },
  {
   "cell_type": "code",
   "execution_count": 5,
   "metadata": {},
   "outputs": [],
   "source": [
    "# define DH parameters for each link in meters\n",
    "\n",
    "PI = np.pi\n",
    "PI_HALF = np.pi/2\n",
    "\n",
    "#joint variables\n",
    "theta = [0, 0, 0, 0, 0, 0]\n",
    "\n",
    "# format : (a, alpha, d, theta)\n",
    "\n",
    "l1 = DHLink(0.025, PI_HALF,  -0.400, theta[0]+PI)\n",
    "l2 = DHLink(0.455, 0.0,      0.0,    theta[1])\n",
    "l3 = DHLink(0.035, PI_HALF,  0.0,    theta[2]-PI_HALF)\n",
    "l4 = DHLink(0.0,   -PI_HALF, -0.420, theta[3])\n",
    "l5 = DHLink(0.0,   PI_HALF,  0.0,    theta[4])\n",
    "l6 = DHLink(0.0,   PI,       -0.080, theta[5]+PI)\n"
   ]
  },
  {
   "cell_type": "markdown",
   "metadata": {},
   "source": [
    "### 2) Visualization of DH frames"
   ]
  },
  {
   "cell_type": "code",
   "execution_count": 4,
   "metadata": {},
   "outputs": [],
   "source": [
    "from tpk4170.visualization import Viewer\n",
    "from tpk4170.models import Grid, Axes\n",
    "from pythreejs import Object3D\n",
    "from transformations import quaternion_from_matrix"
   ]
  },
  {
   "cell_type": "code",
   "execution_count": 5,
   "metadata": {},
   "outputs": [],
   "source": [
    "class DHFrame(Axes):\n",
    "    def __init__(self, trf):\n",
    "        Axes.__init__(self, 0.1)\n",
    "        self.quaternion = np.roll(quaternion_from_matrix(trf), -1).tolist()\n",
    "        self.position = (trf[:3, 3]).tolist()"
   ]
  },
  {
   "cell_type": "code",
   "execution_count": 6,
   "metadata": {
    "scrolled": false
   },
   "outputs": [
    {
     "name": "stderr",
     "output_type": "stream",
     "text": [
      "/home/gaston/Desktop/tpk4170-robotics/tpk4170_venv/lib/python3.8/site-packages/jupyter_client/session.py:716: UserWarning: Message serialization failed with:\n",
      "Out of range float values are not JSON compliant\n",
      "Supporting this message is deprecated in jupyter-client 7, please make sure your message is JSON-compliant\n",
      "  content = self.pack(content)\n"
     ]
    },
    {
     "data": {
      "application/vnd.jupyter.widget-view+json": {
       "model_id": "b56b6c3eea4c4e9995c6884485818d13",
       "version_major": 2,
       "version_minor": 0
      },
      "text/plain": [
       "Renderer(camera=PerspectiveCamera(aspect=1.5, children=(DirectionalLight(color='white', intensity=0.66, positi…"
      ]
     },
     "metadata": {},
     "output_type": "display_data"
    }
   ],
   "source": [
    "# show the KR6 visualization as a comparison\n",
    "kr6_vis = Kr6R900SixxVisualizer()\n",
    "kr6_vis.theta = np.array([0, 0, PI_HALF, 0, 0, 0])"
   ]
  },
  {
   "cell_type": "code",
   "execution_count": 7,
   "metadata": {
    "scrolled": false
   },
   "outputs": [
    {
     "data": {
      "application/vnd.jupyter.widget-view+json": {
       "model_id": "ba5acc3b682d4be48e6c4dd2f17d7a00",
       "version_major": 2,
       "version_minor": 0
      },
      "text/plain": [
       "Renderer(camera=PerspectiveCamera(aspect=1.5, children=(DirectionalLight(color='white', intensity=0.66, positi…"
      ]
     },
     "metadata": {},
     "output_type": "display_data"
    }
   ],
   "source": [
    "viewer = Viewer(background=\"white\")"
   ]
  },
  {
   "cell_type": "code",
   "execution_count": 6,
   "metadata": {},
   "outputs": [],
   "source": [
    "# Since the visualization base frame is not the same as the 0 frame that we choose for DH,\n",
    "# we need to apply a transformation T0v to all matrices in order to visualize them\n",
    "\n",
    "T0v = np.array([[-1, 0, 0, 0],\n",
    "                [0, 1, 0, 0],\n",
    "                [0, 0, -1, 0],\n",
    "                [0, 0, 0, 1]\n",
    "               ])\n",
    "\n",
    "T01 = np.linalg.inv(T0v) @ l1.matrix()\n",
    "T02 = np.linalg.inv(T0v) @ l1.matrix() @ l2.matrix()\n",
    "T03 = np.linalg.inv(T0v) @ l1.matrix() @ l2.matrix() @ l3.matrix()\n",
    "T04 = np.linalg.inv(T0v) @ l1.matrix() @ l2.matrix() @ l3.matrix() @ l4.matrix()\n",
    "T05 = np.linalg.inv(T0v) @ l1.matrix() @ l2.matrix() @ l3.matrix() @ l4.matrix() @ l5.matrix()\n",
    "T06 = np.linalg.inv(T0v) @ l1.matrix() @ l2.matrix() @ l3.matrix() @ l4.matrix() @ l5.matrix() @ l6.matrix()"
   ]
  },
  {
   "cell_type": "code",
   "execution_count": 9,
   "metadata": {},
   "outputs": [],
   "source": [
    "viewer.add(Grid())\n",
    "viewer.add(DHFrame(T0v))\n",
    "viewer.add(DHFrame(T01))\n",
    "viewer.add(DHFrame(T02))\n",
    "viewer.add(DHFrame(T03))\n",
    "viewer.add(DHFrame(T04))\n",
    "viewer.add(DHFrame(T05))\n",
    "viewer.add(DHFrame(T06))"
   ]
  },
  {
   "cell_type": "markdown",
   "metadata": {},
   "source": [
    "## Visualize space frame and body frame screw axes"
   ]
  },
  {
   "cell_type": "code",
   "execution_count": 10,
   "metadata": {},
   "outputs": [],
   "source": [
    "from pythreejs import ArrowHelper as Arrow"
   ]
  },
  {
   "cell_type": "code",
   "execution_count": 11,
   "metadata": {},
   "outputs": [],
   "source": [
    "class ScrewAxis(Arrow):\n",
    "    def __init__(self, direction, origin, length=.5):\n",
    "        Arrow.__init__(self, direction.tolist(), origin.tolist(), length, hex=0xffff00)\n",
    "        "
   ]
  },
  {
   "cell_type": "code",
   "execution_count": 12,
   "metadata": {},
   "outputs": [],
   "source": [
    "class Kr6:\n",
    "    def __init__(self):\n",
    "        self._M = np.array(\n",
    "            [\n",
    "                [0.0, 0.0, -1.0, -0.980],\n",
    "                [0.0, 1.0, 0.0, 0],\n",
    "                [1.0, 0.0, 0.0, -0.435], \n",
    "                [0.0, 0.0, 0.0, 1.0],\n",
    "            ]\n",
    "        )\n",
    "        \n",
    "        self._SList = np.array(\n",
    "            [\n",
    "                [0.0, 0.0, 1.0, 0.0, 0.0, 0.0],\n",
    "                [0.0, 1.0, 0.0, 0.400, 0.0, -0.025],\n",
    "                [0.0, 1.0, 0.0, 0.400, 0.0, -0.480],\n",
    "                [1.0, 0.0, 0.0, 0.0, -0.435, 0.0],\n",
    "                [0.0, 1.0, 0.0, 0.435, 0.0, -0.900],\n",
    "                [1.0, 0.0, 0.0, 0.0, -0.435, 0.0]\n",
    "            ]\n",
    "        ).T\n",
    "        \n",
    "    def fkin(self, theta):\n",
    "        return mr.FKinSpace(self._M, self._SList, theta)\n",
    "\n",
    "\n",
    "PI_HALF = np.pi / 2\n",
    "PI = np.pi\n",
    "\n",
    "kr6 = Kr6()"
   ]
  },
  {
   "cell_type": "code",
   "execution_count": 13,
   "metadata": {},
   "outputs": [
    {
     "data": {
      "application/vnd.jupyter.widget-view+json": {
       "model_id": "87fe27e76ae84ff5b085fcb7d28bf73a",
       "version_major": 2,
       "version_minor": 0
      },
      "text/plain": [
       "Renderer(camera=PerspectiveCamera(aspect=1.5, children=(DirectionalLight(color='white', intensity=0.66, positi…"
      ]
     },
     "metadata": {},
     "output_type": "display_data"
    }
   ],
   "source": [
    "v = Kr6R900SixxVisualizer()\n",
    "v.theta = np.array([0, 0, 0, 0, 0, 0])"
   ]
  },
  {
   "cell_type": "code",
   "execution_count": 14,
   "metadata": {},
   "outputs": [],
   "source": [
    "#rotation matrix from space frame to visualizer base frame\n",
    "R_sv = np.array([[-1, 0, 0],\n",
    "                 [0, 1, 0],\n",
    "                 [0, 0, -1]]\n",
    "               )"
   ]
  },
  {
   "cell_type": "code",
   "execution_count": 15,
   "metadata": {},
   "outputs": [],
   "source": [
    "w1 = R_sv @ kr6._SList.T[0][:3]\n",
    "p1 = np.array([0, 0, 0])\n",
    "s1_rep = ScrewAxis(w1, p1)\n",
    "\n",
    "w2 = R_sv @ kr6._SList.T[1][:3]\n",
    "p2 = R_sv @ np.array([-0.025, 0, -0.400])\n",
    "s2_rep = ScrewAxis(w2, p2)\n",
    "\n",
    "w3 = R_sv @ kr6._SList.T[2][:3]\n",
    "p3 = R_sv @ np.array([-0.480, 0, -0.400])\n",
    "s3_rep = ScrewAxis(w3, p3)\n",
    "\n",
    "w4 = R_sv @ kr6._SList.T[3][:3]\n",
    "p4 = R_sv @ np.array([0, 0, -.435])\n",
    "s4_rep = ScrewAxis(w4, p4)\n",
    "\n",
    "w5 = R_sv @ kr6._SList.T[4][:3]\n",
    "p5 = R_sv @ np.array([-0.900, 0, -0.435])\n",
    "s5_rep = ScrewAxis(w5, p5)\n",
    "\n",
    "w6 = R_sv @ kr6._SList.T[5][:3]\n",
    "p6 = R_sv @ np.array([0, 0, -.435])\n",
    "s6_rep = ScrewAxis(w3, p3)\n",
    "\n",
    "\n",
    "\n",
    "\n",
    "v._viewer.add(s1_rep)\n",
    "v._viewer.add(s2_rep)\n",
    "v._viewer.add(s3_rep)\n",
    "v._viewer.add(s4_rep)\n",
    "v._viewer.add(s5_rep)\n",
    "v._viewer.add(s6_rep)"
   ]
  },
  {
   "cell_type": "markdown",
   "metadata": {},
   "source": [
    "## Verification that DH agrees with PoE"
   ]
  },
  {
   "cell_type": "markdown",
   "metadata": {},
   "source": [
    "Let's take 3 different joint positions to check if they agree:\n",
    "- $\\theta^A = \\left[\\;\\begin{matrix}\n",
    "                    \\pi/2 & -\\pi/2 & \\pi/3 & 0 & 0 & 0\n",
    "                    \\end{matrix} \\; \\right]^T$\n",
    "\n",
    "- $\\theta^B = \\left[\\;\\begin{matrix}\n",
    "                    0 & 5 \\pi/4 & \\pi/4 & 0 & \\pi/3 & \\pi/5 \n",
    "                    \\end{matrix} \\; \\right]^T$\n",
    "\n",
    "- $\\theta^C = \\left[\\;\\begin{matrix}\n",
    "                    \\pi/5 & -\\pi/4 & \\pi/3 & \\pi/3 & -\\pi/3 & 0\n",
    "                    \\end{matrix} \\; \\right]^T$"
   ]
  },
  {
   "cell_type": "code",
   "execution_count": 18,
   "metadata": {},
   "outputs": [],
   "source": [
    "theta_A = [PI/2, -PI/2, PI/3, 0, 0, 0]\n",
    "theta_B = [0, 5*PI/4, PI/4, 0, PI/3, PI/5]\n",
    "theta_C = [PI/5, -PI/4, PI/3, PI/3, -PI/3, 0]\n"
   ]
  },
  {
   "cell_type": "code",
   "execution_count": 19,
   "metadata": {},
   "outputs": [],
   "source": [
    "def dhFKin(theta):\n",
    "    l1 = DHLink(0.025, PI_HALF,  -0.400, theta[0]+PI)\n",
    "    l2 = DHLink(0.455, 0.0,      0.0,    theta[1])\n",
    "    l3 = DHLink(0.035, PI_HALF,  0.0,    theta[2]-PI/2) #expliquer -PI/2\n",
    "    l4 = DHLink(0.0,   -PI_HALF, -0.420, theta[3])\n",
    "    l5 = DHLink(0.0,   PI_HALF,  0.0,    theta[4])\n",
    "    l6 = DHLink(0.0,   PI,       -0.080, theta[5]+PI)\n",
    "\n",
    "    return l1.matrix() @ l2.matrix() @ l3.matrix() @ l4.matrix() @ l5.matrix() @ l6.matrix()"
   ]
  },
  {
   "cell_type": "code",
   "execution_count": 20,
   "metadata": {},
   "outputs": [
    {
     "data": {
      "text/plain": [
       "True"
      ]
     },
     "execution_count": 20,
     "metadata": {},
     "output_type": "execute_result"
    }
   ],
   "source": [
    "# DH\n",
    "T_dh_A = dhFKin(theta_A)\n",
    "\n",
    "# PoE\n",
    "T_poe_A = kr6.fkin(theta_A)\n",
    "\n",
    "\n",
    "np.allclose(T_dh_A, T_poe_A)"
   ]
  },
  {
   "cell_type": "code",
   "execution_count": 21,
   "metadata": {},
   "outputs": [
    {
     "data": {
      "text/plain": [
       "True"
      ]
     },
     "execution_count": 21,
     "metadata": {},
     "output_type": "execute_result"
    }
   ],
   "source": [
    "# DH\n",
    "T_dh_B = dhFKin(theta_B)\n",
    "\n",
    "# PoE\n",
    "T_poe_B = kr6.fkin(theta_B)\n",
    "\n",
    "\n",
    "np.allclose(T_dh_B, T_poe_B)"
   ]
  },
  {
   "cell_type": "code",
   "execution_count": 22,
   "metadata": {},
   "outputs": [
    {
     "data": {
      "text/plain": [
       "True"
      ]
     },
     "execution_count": 22,
     "metadata": {},
     "output_type": "execute_result"
    }
   ],
   "source": [
    "# DH\n",
    "T_dh_C = dhFKin(theta_C)\n",
    "\n",
    "# PoE\n",
    "T_poe_C = kr6.fkin(theta_C)\n",
    "\n",
    "\n",
    "np.allclose(T_dh_C, T_poe_C)"
   ]
  }
 ],
 "metadata": {
  "celltoolbar": "Aucun(e)",
  "kernelspec": {
   "display_name": "Python 3",
   "language": "python",
   "name": "python3"
  },
  "language_info": {
   "codemirror_mode": {
    "name": "ipython",
    "version": 3
   },
   "file_extension": ".py",
   "mimetype": "text/x-python",
   "name": "python",
   "nbconvert_exporter": "python",
   "pygments_lexer": "ipython3",
   "version": "3.7.4"
  }
 },
 "nbformat": 4,
 "nbformat_minor": 5
}
